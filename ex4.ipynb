{
 "cells": [
  {
   "cell_type": "code",
   "execution_count": 3,
   "id": "3203182b",
   "metadata": {},
   "outputs": [
    {
     "name": "stdout",
     "output_type": "stream",
     "text": [
      "C: 1000 -> Support vectors: 79\n",
      "\n",
      "C: 100 -> Support vectors: 79\n",
      "\n",
      "C: 1 -> Support vectors: 84\n",
      "\n",
      "C: 0.1 -> Support vectors: 105\n",
      "\n",
      "C: 0.01 -> Support vectors: 186\n",
      "\n"
     ]
    }
   ],
   "source": [
    "import pandas as pd\n",
    "import numpy as np\n",
    "import matplotlib.pyplot as plt\n",
    "from sklearn.datasets import load_breast_cancer\n",
    "from sklearn.svm import SVC\n",
    "from sklearn.model_selection import train_test_split\n",
    "from sklearn.metrics import accuracy_score, classification_report\n",
    "from sklearn.preprocessing import StandardScaler\n",
    "\n",
    "features = [\"mean perimeter\", \"mean concave points\"]\n",
    "C_values = [1000, 100, 1, 0.1, 0.01]\n",
    "\n",
    "dataset       = load_breast_cancer()\n",
    "df            = pd.DataFrame(dataset.data, columns=dataset.feature_names)\n",
    "df[\"classes\"] = dataset.target\n",
    "\n",
    "# display(df)\n",
    "\n",
    "\n",
    "X = df[features]\n",
    "y = df[\"classes\"]\n",
    "\n",
    "scaler   = StandardScaler()\n",
    "X_scaled = scaler.fit_transform(X)\n",
    "\n",
    "X_train, X_test, y_train, y_test = train_test_split(X_scaled, y, test_size=0.3, random_state=42)\n",
    "\n",
    "model = SVC(kernel=\"linear\")\n",
    "\n",
    "for i, C in enumerate(C_values):\n",
    "    model.set_params(C=C)\n",
    "    model.fit(X_train, y_train)\n",
    "    y_predicted = model.predict(X_test)\n",
    "\n",
    "    support_vectors = model.support_vectors_\n",
    "\n",
    "    print(f\"C: {C} -> Support vectors: {len(support_vectors)}\", end=\"\\n\\n\")"
   ]
  },
  {
   "cell_type": "code",
   "execution_count": null,
   "id": "5e8bc256-1e75-4961-98e5-dcf84c5e5b80",
   "metadata": {},
   "outputs": [],
   "source": []
  }
 ],
 "metadata": {
  "kernelspec": {
   "display_name": "Python 3 (ipykernel)",
   "language": "python",
   "name": "python3"
  },
  "language_info": {
   "codemirror_mode": {
    "name": "ipython",
    "version": 3
   },
   "file_extension": ".py",
   "mimetype": "text/x-python",
   "name": "python",
   "nbconvert_exporter": "python",
   "pygments_lexer": "ipython3",
   "version": "3.13.3"
  }
 },
 "nbformat": 4,
 "nbformat_minor": 5
}
