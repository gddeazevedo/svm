{
 "cells": [
  {
   "cell_type": "markdown",
   "id": "46d743f1-470a-4835-bd51-567a842cad1a",
   "metadata": {},
   "source": [
    "# Links:\n",
    "\n",
    "- [Ridge Regression Scikit-learn](https://scikit-learn.org/stable/modules/linear_model.html#ridge-regression)\n",
    "- [Ridge Regression IBM](https://www.ibm.com/br-pt/think/topics/ridge-regression)"
   ]
  },
  {
   "cell_type": "code",
   "execution_count": null,
   "id": "cd0d9f41-35fa-46d5-b53b-bfa430dec1e7",
   "metadata": {},
   "outputs": [],
   "source": []
  },
  {
   "cell_type": "code",
   "execution_count": null,
   "id": "3567bddf-7f90-4594-9ee9-e567ed004699",
   "metadata": {},
   "outputs": [],
   "source": []
  },
  {
   "cell_type": "code",
   "execution_count": null,
   "id": "43844bdb-ad2e-4e3a-8df8-37658156546c",
   "metadata": {},
   "outputs": [],
   "source": []
  }
 ],
 "metadata": {
  "kernelspec": {
   "display_name": "Python 3 (ipykernel)",
   "language": "python",
   "name": "python3"
  },
  "language_info": {
   "codemirror_mode": {
    "name": "ipython",
    "version": 3
   },
   "file_extension": ".py",
   "mimetype": "text/x-python",
   "name": "python",
   "nbconvert_exporter": "python",
   "pygments_lexer": "ipython3",
   "version": "3.13.3"
  }
 },
 "nbformat": 4,
 "nbformat_minor": 5
}
